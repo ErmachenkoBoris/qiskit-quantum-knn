{
 "cells": [
  {
   "cell_type": "code",
   "execution_count": 1,
   "metadata": {
    "execution": {
     "iopub.execute_input": "2020-11-03T09:23:28.477570Z",
     "iopub.status.busy": "2020-11-03T09:23:28.474717Z",
     "iopub.status.idle": "2020-11-03T09:23:29.993933Z",
     "shell.execute_reply": "2020-11-03T09:23:29.993511Z"
    }
   },
   "outputs": [
    {
     "name": "stdout",
     "output_type": "stream",
     "text": [
      "[0 0]\n",
      "[0 0]\n"
     ]
    }
   ],
   "source": [
    "from qiskit_quantum_knn.qknn import QKNeighborsClassifier\n",
    "from qiskit_quantum_knn.encoding import analog\n",
    "from qiskit.utils import QuantumInstance\n",
    "from sklearn import datasets\n",
    "import qiskit as qk\n",
    "\n",
    "# initialising the quantum instance\n",
    "backend = qk.BasicAer.get_backend('qasm_simulator')\n",
    "instance = QuantumInstance(backend, shots=10000)\n",
    "\n",
    "# initialising the qknn model\n",
    "qknn = QKNeighborsClassifier(\n",
    "   n_neighbors=3,\n",
    "   quantum_instance=instance\n",
    ")\n",
    "\n",
    "n_variables = 2        # should be positive power of 2\n",
    "n_train_points = 4     # can be any positive integer\n",
    "n_test_points = 2      # can be any positive integer\n",
    "\n",
    "# use iris dataset\n",
    "iris = datasets.load_iris()\n",
    "labels = iris.target\n",
    "data_raw = iris.data\n",
    "\n",
    "# encode data\n",
    "encoded_data = analog.encode(data_raw[:, :n_variables])\n",
    "\n",
    "# now pick these indices from the data\n",
    "train_data = encoded_data[:n_train_points]\n",
    "train_labels = labels[:n_train_points]\n",
    "\n",
    "test_data = encoded_data[n_train_points:(n_train_points+n_test_points), :n_variables]\n",
    "test_labels = labels[n_train_points:(n_train_points+n_test_points)]\n",
    "\n",
    "qknn.fit(train_data, train_labels)\n",
    "qknn_prediction = qknn.predict(test_data)\n",
    "\n",
    "print(qknn_prediction)\n",
    "print(test_labels)"
   ]
  },
  {
   "cell_type": "code",
   "execution_count": 2,
   "metadata": {
    "execution": {
     "iopub.execute_input": "2020-11-03T09:23:30.011343Z",
     "iopub.status.busy": "2020-11-03T09:23:30.010919Z",
     "iopub.status.idle": "2020-11-03T09:23:30.012705Z",
     "shell.execute_reply": "2020-11-03T09:23:30.012984Z"
    }
   },
   "outputs": [
    {
     "name": "stdout",
     "output_type": "stream",
     "text": [
      "                                         ░ ┌───┐              ┌───┐ ░ ┌─┐   \n",
      "          control_0: ────────────────────░─┤ H ├────────────■─┤ H ├─░─┤M├───\n",
      "                     ┌─────────────────┐ ░ └───┘            │ └───┘ ░ └╥┘   \n",
      "state_to_classify_0: ┤ INIT TEST STATE ├─░──────────────────X───────░──╫────\n",
      "                     └─────────────────┘ ░      ┌─────────┐ │       ░  ║    \n",
      "     train_states_0: ────────────────────░──────┤0        ├─X───────░──╫────\n",
      "                                         ░ ┌───┐│  oracle │         ░  ║ ┌─┐\n",
      "       comp_basis_0: ────────────────────░─┤ H ├┤1        ├─────────░──╫─┤M├\n",
      "                                         ░ └───┘└─────────┘         ░  ║ └╥┘\n",
      "     meas_control: 1/══════════════════════════════════════════════════╩══╬═\n",
      "                                                                       0  ║ \n",
      "                                                                          ║ \n",
      "  meas_comp_basis: 1/═════════════════════════════════════════════════════╩═\n",
      "                                                                          0 \n"
     ]
    }
   ],
   "source": [
    "from qiskit_quantum_knn.qknn.qknn_construction import create_qknn\n",
    "\n",
    "test_data = [1, 0]\n",
    "\n",
    "train_data = [\n",
    "    [1, 0],\n",
    "    [1, 0]\n",
    "]\n",
    "\n",
    "circuit = create_qknn(test_data, train_data, add_measurement=True)\n",
    "print(circuit.draw())"
   ]
  }
 ],
 "metadata": {
  "kernelspec": {
   "display_name": "Python 3",
   "language": "python",
   "name": "python3"
  },
  "language_info": {
   "codemirror_mode": {
    "name": "ipython",
    "version": 3
   },
   "file_extension": ".py",
   "mimetype": "text/x-python",
   "name": "python",
   "nbconvert_exporter": "python",
   "pygments_lexer": "ipython3",
   "version": "3.8.5"
  }
 },
 "nbformat": 4,
 "nbformat_minor": 4
}